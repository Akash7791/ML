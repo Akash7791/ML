{
  "nbformat": 4,
  "nbformat_minor": 0,
  "metadata": {
    "colab": {
      "name": "Polynomial Regression.ipynb",
      "provenance": [],
      "collapsed_sections": [],
      "authorship_tag": "ABX9TyOYHNDX7P1pj6LK3J97LugP",
      "include_colab_link": true
    },
    "kernelspec": {
      "name": "python3",
      "display_name": "Python 3"
    }
  },
  "cells": [
    {
      "cell_type": "markdown",
      "metadata": {
        "id": "view-in-github",
        "colab_type": "text"
      },
      "source": [
        "<a href=\"https://colab.research.google.com/github/Akash7791/ML/blob/master/Polynomial_Regression.ipynb\" target=\"_parent\"><img src=\"https://colab.research.google.com/assets/colab-badge.svg\" alt=\"Open In Colab\"/></a>"
      ]
    },
    {
      "cell_type": "code",
      "metadata": {
        "id": "T07k-etNBhU2",
        "colab_type": "code",
        "colab": {}
      },
      "source": [
        "import pandas as pd\n",
        "import numpy as np\n",
        "import matplotlib.pyplot as plt"
      ],
      "execution_count": 0,
      "outputs": []
    },
    {
      "cell_type": "code",
      "metadata": {
        "id": "ZooCkNQUC_Y_",
        "colab_type": "code",
        "colab": {}
      },
      "source": [
        "dataset = pd.read_csv('Position_Salaries.csv')\n",
        "X = dataset.iloc[:, 1:-1].values\n",
        "y = dataset.iloc[:, -1].values"
      ],
      "execution_count": 0,
      "outputs": []
    },
    {
      "cell_type": "code",
      "metadata": {
        "id": "QiW7XLVoELHp",
        "colab_type": "code",
        "colab": {}
      },
      "source": [
        "from sklearn.model_selection import train_test_split\n",
        "X_train, X_test, y_train, y_test = train_test_split(X, y, test_size = 0.2, random_state = 0)"
      ],
      "execution_count": 0,
      "outputs": []
    },
    {
      "cell_type": "code",
      "metadata": {
        "id": "-uEvwkM1EdN1",
        "colab_type": "code",
        "outputId": "0c0cdcc2-1f2f-43a3-95ad-fa2e12523ad1",
        "colab": {
          "base_uri": "https://localhost:8080/",
          "height": 34
        }
      },
      "source": [
        "from sklearn.linear_model import LinearRegression\n",
        "lin_reg = LinearRegression()\n",
        "lin_reg.fit(X, y)"
      ],
      "execution_count": 0,
      "outputs": [
        {
          "output_type": "execute_result",
          "data": {
            "text/plain": [
              "LinearRegression(copy_X=True, fit_intercept=True, n_jobs=None, normalize=False)"
            ]
          },
          "metadata": {
            "tags": []
          },
          "execution_count": 7
        }
      ]
    },
    {
      "cell_type": "code",
      "metadata": {
        "id": "Ymux58HvFoLr",
        "colab_type": "code",
        "colab": {}
      },
      "source": [
        "from sklearn.preprocessing import PolynomialFeatures\n",
        "poly_reg = PolynomialFeatures(degree=4)\n",
        "X_poly = poly_reg.fit_transform(X)"
      ],
      "execution_count": 0,
      "outputs": []
    },
    {
      "cell_type": "code",
      "metadata": {
        "id": "gscWPs-fHbpq",
        "colab_type": "code",
        "outputId": "6079f40a-4733-478f-c23e-2d0ff1795f2f",
        "colab": {
          "base_uri": "https://localhost:8080/",
          "height": 187
        }
      },
      "source": [
        "lin_reg_2 = LinearRegression()\n",
        "lin_reg_2.fit(X_poly, y)\n",
        "X_poly"
      ],
      "execution_count": 0,
      "outputs": [
        {
          "output_type": "execute_result",
          "data": {
            "text/plain": [
              "array([[1.000e+00, 1.000e+00, 1.000e+00, 1.000e+00, 1.000e+00],\n",
              "       [1.000e+00, 2.000e+00, 4.000e+00, 8.000e+00, 1.600e+01],\n",
              "       [1.000e+00, 3.000e+00, 9.000e+00, 2.700e+01, 8.100e+01],\n",
              "       [1.000e+00, 4.000e+00, 1.600e+01, 6.400e+01, 2.560e+02],\n",
              "       [1.000e+00, 5.000e+00, 2.500e+01, 1.250e+02, 6.250e+02],\n",
              "       [1.000e+00, 6.000e+00, 3.600e+01, 2.160e+02, 1.296e+03],\n",
              "       [1.000e+00, 7.000e+00, 4.900e+01, 3.430e+02, 2.401e+03],\n",
              "       [1.000e+00, 8.000e+00, 6.400e+01, 5.120e+02, 4.096e+03],\n",
              "       [1.000e+00, 9.000e+00, 8.100e+01, 7.290e+02, 6.561e+03],\n",
              "       [1.000e+00, 1.000e+01, 1.000e+02, 1.000e+03, 1.000e+04]])"
            ]
          },
          "metadata": {
            "tags": []
          },
          "execution_count": 22
        }
      ]
    },
    {
      "cell_type": "code",
      "metadata": {
        "id": "LKgfNpU5IVuC",
        "colab_type": "code",
        "outputId": "a31ee9f2-7629-4e90-a509-6c9e8b02b6a8",
        "colab": {
          "base_uri": "https://localhost:8080/",
          "height": 295
        }
      },
      "source": [
        "plt.scatter(X,y, color='red')\n",
        "plt.plot(X, lin_reg.predict(X), color='blue')\n",
        "plt.title('Linear Regression')\n",
        "plt.xlabel('Experience')\n",
        "plt.ylabel('Salary')\n",
        "plt.show()"
      ],
      "execution_count": 0,
      "outputs": [
        {
          "output_type": "display_data",
          "data": {
            "image/png": "[encoded data removed]",
            "text/plain": [
              "<Figure size 432x288 with 1 Axes>"
            ]
          },
          "metadata": {
            "tags": [],
            "needs_background": "light"
          }
        }
      ]
    },
    {
      "cell_type": "code",
      "metadata": {
        "id": "Eu5gWiC-I7om",
        "colab_type": "code",
        "outputId": "5f5c3f71-2874-4bc4-f931-581b3bd262de",
        "colab": {
          "base_uri": "https://localhost:8080/",
          "height": 295
        }
      },
      "source": [
        "plt.scatter(X,y, color='red')\n",
        "plt.plot(X, lin_reg_2.predict(X_poly), color='blue')\n",
        "plt.title('Polynomial Regression')\n",
        "plt.xlabel('Experience')\n",
        "plt.ylabel('Salary')\n",
        "plt.show()"
      ],
      "execution_count": 0,
      "outputs": [
        {
          "output_type": "display_data",
          "data": {
            "image/png": "[encoded data removed]",
            "text/plain": [
              "<Figure size 432x288 with 1 Axes>"
            ]
          },
          "metadata": {
            "tags": [],
            "needs_background": "light"
          }
        }
      ]
    },
    {
      "cell_type": "code",
      "metadata": {
        "id": "3XhHOilfKxct",
        "colab_type": "code",
        "outputId": "986d65cb-9dd7-4b86-ed54-9c0e350d2cb3",
        "colab": {
          "base_uri": "https://localhost:8080/",
          "height": 34
        }
      },
      "source": [
        "lin_reg.predict([[6.5]])"
      ],
      "execution_count": 0,
      "outputs": [
        {
          "output_type": "execute_result",
          "data": {
            "text/plain": [
              "array([330378.78787879])"
            ]
          },
          "metadata": {
            "tags": []
          },
          "execution_count": 23
        }
      ]
    },
    {
      "cell_type": "code",
      "metadata": {
        "id": "xR5sXi3eMIF2",
        "colab_type": "code",
        "outputId": "aacd841d-41e0-45c2-b984-83822f3e24f7",
        "colab": {
          "base_uri": "https://localhost:8080/",
          "height": 34
        }
      },
      "source": [
        "lin_reg_2.predict(poly_reg.fit_transform([[6.5]]))"
      ],
      "execution_count": 0,
      "outputs": [
        {
          "output_type": "execute_result",
          "data": {
            "text/plain": [
              "array([158862.45265155])"
            ]
          },
          "metadata": {
            "tags": []
          },
          "execution_count": 25
        }
      ]
    }
  ]
}